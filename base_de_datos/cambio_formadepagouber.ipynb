{
 "cells": [
  {
   "cell_type": "markdown",
   "metadata": {},
   "source": [
    "### Librerías necesarias"
   ]
  },
  {
   "cell_type": "code",
   "execution_count": 1,
   "metadata": {},
   "outputs": [],
   "source": [
    "import pymysql\n",
    "import mysql.connector\n",
    "import numpy as np\n",
    "import pandas as pd\n",
    "import os\n",
    "import urllib.parse as up\n",
    "from sqlalchemy import create_engine\n",
    "import warnings\n",
    "warnings.filterwarnings('ignore')"
   ]
  },
  {
   "cell_type": "markdown",
   "metadata": {},
   "source": [
    "### Conexión a la base de datos alojada en AWS y cambio en la tabla payment_forms de payment_id 50004 por 5012"
   ]
  },
  {
   "cell_type": "code",
   "execution_count": null,
   "metadata": {},
   "outputs": [],
   "source": [
    "username = \"tu-user\"\n",
    "password = \"tu-password\"\n",
    "host = \"tu-host\"\n",
    "port = 3306\n",
    "database = \"tu-database\" "
   ]
  },
  {
   "cell_type": "code",
   "execution_count": 2,
   "metadata": {},
   "outputs": [],
   "source": [
    "username = \"admin\"\n",
    "password = \"12345678\"\n",
    "host = \"database-1.crkk0ooqkzct.us-east-1.rds.amazonaws.com\"\n",
    "port = 3306\n",
    "database = \"database-1\""
   ]
  },
  {
   "cell_type": "code",
   "execution_count": null,
   "metadata": {},
   "outputs": [],
   "source": [
    "# Conectar a la base de datos\n",
    "db = pymysql.connect(host=host, user=username, password=password, database=database, port=port, cursorclass=pymysql.cursors.DictCursor)\n",
    "\n",
    "# Crear un cursor\n",
    "cursor = db.cursor()\n",
    "\n",
    "try:\n",
    "    # Actualizar los registros\n",
    "    cursor.execute(\"UPDATE payment_forms SET payment_id = 5012 WHERE payment_id = 50004\")\n",
    "    db.commit()  # Confirmar la actualización\n",
    "    \n",
    "except Exception as e:\n",
    "    # Manejar cualquier error\n",
    "    print(f\"Error: {str(e)}\")\n",
    "    db.rollback()  # Revertir cualquier cambio en caso de error\n",
    "\n",
    "finally:\n",
    "    # Cerrar la conexión\n",
    "    db.close()\n"
   ]
  },
  {
   "cell_type": "markdown",
   "metadata": {},
   "source": [
    "### Ahora elimino el metodo de pago con id 50004 de la tabla payment_form_type"
   ]
  },
  {
   "cell_type": "code",
   "execution_count": 4,
   "metadata": {},
   "outputs": [
    {
     "name": "stdout",
     "output_type": "stream",
     "text": [
      "Registro antes de la eliminación:\n",
      "{'id': 50004, 'name': 'Uber eats'}\n",
      "\n",
      "Registro eliminado con éxito.\n"
     ]
    }
   ],
   "source": [
    "# Conectar a la base de datos\n",
    "db = pymysql.connect(host=host, user=username, password=password, database=database, port=port, cursorclass=pymysql.cursors.DictCursor)\n",
    "\n",
    "# Crear un cursor\n",
    "cursor = db.cursor()\n",
    "\n",
    "try:\n",
    "    # Consultar el registro con id igual a 50004\n",
    "    cursor.execute(\"SELECT * FROM payment_form_type WHERE id = 50004\")\n",
    "    \n",
    "    # Obtener el resultado\n",
    "    result = cursor.fetchone()\n",
    "    \n",
    "    if result:\n",
    "        # Mostrar el registro antes de la eliminación\n",
    "        print(\"Registro antes de la eliminación:\")\n",
    "        print(result)\n",
    "        \n",
    "        # Eliminar el registro\n",
    "        cursor.execute(\"DELETE FROM payment_form_type WHERE id = 50004\")\n",
    "        db.commit()  # Confirmar la eliminación\n",
    "        \n",
    "        print(\"\\nRegistro eliminado con éxito.\")\n",
    "    else:\n",
    "        print(\"No se encontró ningún registro con id igual a 50004.\")\n",
    "\n",
    "except Exception as e:\n",
    "    # Manejar cualquier error\n",
    "    print(f\"Error: {str(e)}\")\n",
    "    db.rollback()  # Revertir cualquier cambio en caso de error\n",
    "\n",
    "finally:\n",
    "    # Cerrar la conexión\n",
    "    db.close()\n"
   ]
  },
  {
   "cell_type": "markdown",
   "metadata": {},
   "source": [
    "### Consultar tabla"
   ]
  },
  {
   "cell_type": "code",
   "execution_count": 5,
   "metadata": {},
   "outputs": [
    {
     "name": "stdout",
     "output_type": "stream",
     "text": [
      "(1000, 'Efectivo')\n",
      "(2000, 'Tarjeta Crédito')\n",
      "(3000, 'Tarjeta Débito')\n",
      "(5000, 'Web Pay')\n",
      "(5012, 'PedidosYa')\n",
      "(5013, 'PedidosYa Vouchers')\n",
      "(5015, 'Rappi')\n",
      "(5103, 'UberEats')\n",
      "(5119, 'Mercat')\n",
      "(9001, 'Transferencia')\n",
      "(50002, 'PedidosYa Efectivo')\n"
     ]
    }
   ],
   "source": [
    "# Conexión a la base de datos MySQL en AWS\n",
    "conn = mysql.connector.connect(host=host, user=username, password=password, database=database, port=port)\n",
    "cursor = conn.cursor()\n",
    "\n",
    "# Consulta SELECT para obtener todos los registros de la tabla mesas\n",
    "select_query = \"SELECT * FROM payment_form_type\"\n",
    "\n",
    "# Ejecutar la consulta SELECT\n",
    "cursor.execute(select_query)\n",
    "\n",
    "# Obtener todos los registros de la tabla mesas\n",
    "mesas = cursor.fetchall()\n",
    "\n",
    "# Imprimir los registros\n",
    "for mesa in mesas:\n",
    "    print(mesa)\n",
    "\n",
    "# Cerrar la conexión\n",
    "conn.close()\n"
   ]
  }
 ],
 "metadata": {
  "kernelspec": {
   "display_name": "Python 3",
   "language": "python",
   "name": "python3"
  },
  "language_info": {
   "codemirror_mode": {
    "name": "ipython",
    "version": 3
   },
   "file_extension": ".py",
   "mimetype": "text/x-python",
   "name": "python",
   "nbconvert_exporter": "python",
   "pygments_lexer": "ipython3",
   "version": "3.11.5"
  }
 },
 "nbformat": 4,
 "nbformat_minor": 2
}
